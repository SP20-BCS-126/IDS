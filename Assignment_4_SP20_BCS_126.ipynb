{
  "nbformat": 4,
  "nbformat_minor": 0,
  "metadata": {
    "colab": {
      "provenance": [],
      "authorship_tag": "ABX9TyNgqUpmtdSKGF5SEJiLo9JZ",
      "include_colab_link": true
    },
    "kernelspec": {
      "name": "python3",
      "display_name": "Python 3"
    },
    "language_info": {
      "name": "python"
    }
  },
  "cells": [
    {
      "cell_type": "markdown",
      "metadata": {
        "id": "view-in-github",
        "colab_type": "text"
      },
      "source": [
        "<a href=\"https://colab.research.google.com/github/SP20-BCS-126/IDS/blob/Assignment-4/Assignment_4_SP20_BCS_126.ipynb\" target=\"_parent\"><img src=\"https://colab.research.google.com/assets/colab-badge.svg\" alt=\"Open In Colab\"/></a>"
      ]
    },
    {
      "cell_type": "code",
      "execution_count": 1,
      "metadata": {
        "id": "yu9NW5TpARAw"
      },
      "outputs": [],
      "source": [
        "import pandas as pd"
      ]
    },
    {
      "cell_type": "code",
      "source": [
        "url=\"https://raw.githubusercontent.com/SP20-BCS-126/IDS/Assignment-4/gender-prediction.csv\"\n",
        "df=pd.read_csv(url)"
      ],
      "metadata": {
        "id": "KBeRj5J_Aeni"
      },
      "execution_count": 2,
      "outputs": []
    },
    {
      "cell_type": "code",
      "source": [
        "display(df)"
      ],
      "metadata": {
        "id": "Wp9yc7eaBORV"
      },
      "execution_count": null,
      "outputs": []
    },
    {
      "cell_type": "code",
      "source": [
        "#install scikitplot\n",
        "!pip install scikit-plot"
      ],
      "metadata": {
        "id": "hig4MSolDjjf"
      },
      "execution_count": null,
      "outputs": []
    },
    {
      "cell_type": "code",
      "source": [
        "#import libraries\n",
        "from sklearn import preprocessing\n",
        "import pandas as pd\n",
        "\n",
        "#import different ML classifiers\n",
        "from sklearn.naive_bayes import GaussianNB, BernoulliNB, MultinomialNB\n",
        "from sklearn.svm import SVC, LinearSVC\n",
        "from sklearn.linear_model import LogisticRegression\n",
        "from sklearn.tree import DecisionTreeClassifier\n",
        "from sklearn.ensemble import RandomForestClassifier\n",
        "from sklearn.neural_network import MLPClassifier\n",
        "\n",
        "#import ML evaluation metrics\n",
        "from sklearn.metrics import accuracy_score, f1_score\n",
        "from sklearn.model_selection import train_test_split\n",
        "from sklearn import metrics, model_selection\n",
        "\n",
        "#import scikitplot to plot confusion matrix\n",
        "import scikitplot as skplt"
      ],
      "metadata": {
        "id": "IvmRS1O7Dvoa"
      },
      "execution_count": 5,
      "outputs": []
    },
    {
      "cell_type": "code",
      "source": [
        "gender=df['gender']\n",
        "height=df['height']\n",
        "weight=df['weight']\n",
        "beard=df['beard']\n",
        "hairlength=df['hair_length']\n",
        "shoesize=df['shoe_size']\n",
        "scarf=df['scarf']\n",
        "eyecolor=df['eye_color']"
      ],
      "metadata": {
        "id": "oYmHDvMyESlJ"
      },
      "execution_count": 6,
      "outputs": []
    },
    {
      "cell_type": "code",
      "source": [
        "labels = preprocessing.LabelEncoder()\n",
        "g_encoded = labels.fit_transform(gender)\n",
        "b_encoded = labels.fit_transform(beard)\n",
        "hl_encoded = labels.fit_transform(hairlength)\n",
        "s_encoded = labels.fit_transform(scarf)\n",
        "e_encoded = labels.fit_transform(eyecolor)"
      ],
      "metadata": {
        "id": "SHOMsDBGFlDo"
      },
      "execution_count": 16,
      "outputs": []
    },
    {
      "cell_type": "code",
      "source": [
        "features = list(zip(height,weight,b_encoded,hl_encoded,shoesize,s_encoded,e_encoded))\n",
        "targets = g_encoded"
      ],
      "metadata": {
        "id": "GaCYhcSqGmFb"
      },
      "execution_count": 17,
      "outputs": []
    },
    {
      "cell_type": "code",
      "source": [
        "print(features)"
      ],
      "metadata": {
        "colab": {
          "base_uri": "https://localhost:8080/"
        },
        "id": "Gl1Ti1isHceh",
        "outputId": "322836ac-8dae-40c5-b30a-71d690c6f795"
      },
      "execution_count": 18,
      "outputs": [
        {
          "output_type": "stream",
          "name": "stdout",
          "text": [
            "[(71, 176, 1, 3, 44, 0, 0), (68, 165, 0, 0, 41, 0, 0), (62, 132, 0, 2, 37, 1, 1), (65, 138, 0, 1, 38, 0, 3), (70, 197, 1, 2, 43, 0, 3), (71, 190, 1, 3, 43, 0, 0), (74, 201, 1, 0, 44, 0, 2), (74, 182, 0, 3, 46, 0, 2), (63, 127, 0, 3, 35, 0, 4), (65, 139, 0, 2, 37, 1, 3), (66, 125, 0, 1, 36, 0, 3), (73, 188, 1, 3, 42, 0, 3), (74, 167, 0, 2, 41, 0, 0), (68, 141, 0, 1, 38, 0, 3), (70, 199, 1, 2, 40, 0, 0), (73, 189, 1, 3, 43, 0, 1), (69, 159, 0, 3, 43, 0, 0), (68, 135, 0, 1, 37, 1, 4), (68, 145, 0, 1, 38, 1, 3), (66, 138, 0, 2, 37, 0, 4), (66, 132, 0, 2, 40, 0, 0), (71, 170, 1, 2, 42, 0, 0), (67, 119, 1, 3, 40, 0, 0), (70, 190, 1, 2, 43, 0, 3), (68, 154, 0, 2, 38, 1, 2), (71, 155, 1, 2, 45, 0, 2), (69, 121, 1, 2, 41, 0, 0), (68, 97, 0, 2, 39, 0, 4), (68, 158, 0, 1, 38, 0, 1), (58, 92, 0, 3, 40, 1, 3), (63, 109, 0, 2, 37, 1, 2), (71, 158, 1, 2, 44, 0, 3), (61, 88, 0, 1, 37, 0, 3), (67, 132, 0, 2, 38, 0, 0), (62, 116, 0, 2, 39, 1, 2), (71, 125, 1, 2, 42, 0, 2), (63, 125, 0, 2, 39, 1, 4), (68, 121, 1, 2, 40, 0, 0), (67, 145, 0, 1, 39, 1, 3), (65, 99, 0, 2, 38, 1, 4), (61, 98, 0, 3, 37, 0, 3), (70, 167, 1, 2, 42, 0, 0), (64, 122, 1, 2, 42, 0, 0), (61, 156, 1, 3, 41, 0, 2), (69, 178, 1, 0, 44, 0, 0), (72, 150, 0, 2, 43, 0, 2), (70, 160, 0, 1, 42, 0, 0), (67, 167, 1, 2, 42, 0, 2), (72, 153, 1, 2, 42, 0, 0), (67, 130, 1, 2, 40, 0, 0), (72, 154, 1, 2, 42, 0, 0), (67, 119, 1, 2, 40, 0, 2), (65, 160, 0, 2, 41, 0, 2), (70, 121, 1, 2, 45, 0, 2), (63, 103, 0, 1, 38, 0, 2), (74, 218, 0, 2, 43, 0, 0), (72, 145, 1, 2, 42, 0, 2), (67, 99, 0, 1, 39, 1, 3), (69, 209, 1, 2, 43, 0, 2), (67, 143, 1, 2, 38, 0, 2), (70, 209, 0, 2, 44, 0, 2), (71, 145, 1, 2, 44, 0, 2), (72, 185, 1, 3, 44, 0, 2), (65, 96, 0, 1, 37, 1, 4), (60, 125, 0, 1, 38, 1, 3), (70, 166, 1, 0, 40, 0, 0), (63, 102, 0, 1, 38, 1, 4), (67, 133, 1, 3, 40, 0, 0), (62, 105, 0, 2, 37, 1, 0), (71, 168, 1, 3, 42, 0, 0), (62, 100, 0, 1, 38, 0, 2), (74, 202, 0, 2, 43, 0, 0), (72, 165, 1, 2, 44, 0, 2), (65, 98, 0, 1, 38, 1, 3), (67, 145, 0, 1, 39, 1, 4), (65, 99, 0, 3, 39, 1, 4), (61, 98, 0, 3, 37, 0, 2), (67, 119, 1, 3, 40, 0, 0), (70, 190, 1, 2, 43, 0, 3), (62, 142, 1, 1, 37, 0, 1)]\n"
          ]
        }
      ]
    }
  ]
}
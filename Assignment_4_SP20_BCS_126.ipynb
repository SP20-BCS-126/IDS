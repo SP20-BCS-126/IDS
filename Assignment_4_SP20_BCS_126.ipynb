{
  "nbformat": 4,
  "nbformat_minor": 0,
  "metadata": {
    "colab": {
      "provenance": [],
      "authorship_tag": "ABX9TyO3zHO/ozLRjCumAAtNtpoC",
      "include_colab_link": true
    },
    "kernelspec": {
      "name": "python3",
      "display_name": "Python 3"
    },
    "language_info": {
      "name": "python"
    }
  },
  "cells": [
    {
      "cell_type": "markdown",
      "metadata": {
        "id": "view-in-github",
        "colab_type": "text"
      },
      "source": [
        "<a href=\"https://colab.research.google.com/github/SP20-BCS-126/IDS/blob/Assignment-4/Assignment_4_SP20_BCS_126.ipynb\" target=\"_parent\"><img src=\"https://colab.research.google.com/assets/colab-badge.svg\" alt=\"Open In Colab\"/></a>"
      ]
    },
    {
      "cell_type": "code",
      "execution_count": 1,
      "metadata": {
        "id": "yu9NW5TpARAw"
      },
      "outputs": [],
      "source": [
        "import pandas as pd"
      ]
    },
    {
      "cell_type": "code",
      "source": [
        "url=\"https://raw.githubusercontent.com/SP20-BCS-126/IDS/Assignment-4/gender-prediction.csv\"\n",
        "df=pd.read_csv(url)"
      ],
      "metadata": {
        "id": "KBeRj5J_Aeni"
      },
      "execution_count": 2,
      "outputs": []
    },
    {
      "cell_type": "code",
      "source": [
        "display(df)"
      ],
      "metadata": {
        "id": "Wp9yc7eaBORV"
      },
      "execution_count": null,
      "outputs": []
    },
    {
      "cell_type": "code",
      "source": [
        "#install scikitplot\n",
        "!pip install scikit-plot"
      ],
      "metadata": {
        "id": "hig4MSolDjjf"
      },
      "execution_count": null,
      "outputs": []
    },
    {
      "cell_type": "code",
      "source": [
        "#import libraries\n",
        "from sklearn import preprocessing\n",
        "import pandas as pd\n",
        "\n",
        "#import different ML classifiers\n",
        "from sklearn.naive_bayes import GaussianNB, BernoulliNB, MultinomialNB\n",
        "from sklearn.svm import SVC, LinearSVC\n",
        "from sklearn.linear_model import LogisticRegression\n",
        "from sklearn.tree import DecisionTreeClassifier\n",
        "from sklearn.ensemble import RandomForestClassifier\n",
        "from sklearn.neural_network import MLPClassifier\n",
        "\n",
        "#import ML evaluation metrics\n",
        "from sklearn.metrics import accuracy_score, f1_score\n",
        "from sklearn.model_selection import train_test_split\n",
        "from sklearn import metrics, model_selection\n",
        "\n",
        "#import scikitplot to plot confusion matrix\n",
        "import scikitplot as skplt"
      ],
      "metadata": {
        "id": "IvmRS1O7Dvoa"
      },
      "execution_count": 5,
      "outputs": []
    },
    {
      "cell_type": "code",
      "source": [
        "gender=df['gender']\n",
        "height=df['height']\n",
        "weight=df['weight']\n",
        "beard=df['beard']\n",
        "hairlength=df['hair_length']\n",
        "shoesize=df['shoe_size']\n",
        "scarf=df['scarf']\n",
        "eyecolor=df['eye_color']"
      ],
      "metadata": {
        "id": "oYmHDvMyESlJ"
      },
      "execution_count": 48,
      "outputs": []
    },
    {
      "cell_type": "code",
      "source": [
        "labels = preprocessing.LabelEncoder()\n",
        "g_encoded = labels.fit_transform(gender)\n",
        "b_encoded = labels.fit_transform(beard)\n",
        "hl_encoded = labels.fit_transform(hairlength)\n",
        "s_encoded = labels.fit_transform(scarf)\n",
        "e_encoded = labels.fit_transform(eyecolor)"
      ],
      "metadata": {
        "id": "SHOMsDBGFlDo"
      },
      "execution_count": 49,
      "outputs": []
    },
    {
      "cell_type": "code",
      "source": [
        "x = list(zip(height,weight,b_encoded,hl_encoded,shoesize,s_encoded,e_encoded))\n",
        "y = g_encoded"
      ],
      "metadata": {
        "id": "GaCYhcSqGmFb"
      },
      "execution_count": 50,
      "outputs": []
    },
    {
      "cell_type": "code",
      "source": [
        "X_train, x_test, Y_train, y_test = train_test_split(x, y, test_size = 0.33, random_state = 2)"
      ],
      "metadata": {
        "id": "Gl1Ti1isHceh"
      },
      "execution_count": null,
      "outputs": []
    },
    {
      "cell_type": "code",
      "source": [
        "#model = RandomForestClassifier()\n",
        "#model = SVC()\n",
        "model = MLPClassifier()"
      ],
      "metadata": {
        "id": "ouRQ1m59MKHK"
      },
      "execution_count": null,
      "outputs": []
    },
    {
      "cell_type": "code",
      "source": [
        "model.fit(X_train,Y_train)"
      ],
      "metadata": {
        "id": "YramzJixMUKm"
      },
      "execution_count": null,
      "outputs": []
    },
    {
      "cell_type": "code",
      "source": [
        "prediction = model.predict(x_test)"
      ],
      "metadata": {
        "id": "senlqOpNMhf5"
      },
      "execution_count": null,
      "outputs": []
    },
    {
      "cell_type": "code",
      "source": [
        "model_acc = accuracy_score(y_test, prediction)*100\n",
        "print(model_acc)"
      ],
      "metadata": {
        "id": "cb1rHirAMkc3"
      },
      "execution_count": null,
      "outputs": []
    },
    {
      "cell_type": "code",
      "source": [
        "model_cl_rep = metrics.classification_report(y_test, prediction)\n",
        "print(model_cl_rep)"
      ],
      "metadata": {
        "id": "WxMxb2DHNeiw"
      },
      "execution_count": null,
      "outputs": []
    },
    {
      "cell_type": "code",
      "source": [
        "X_train, x_test, Y_train, y_test = train_test_split(x, y, test_size = 0.2, random_state = 2)"
      ],
      "metadata": {
        "id": "Cqypcbl8Paat"
      },
      "execution_count": null,
      "outputs": []
    },
    {
      "cell_type": "code",
      "source": [
        "model.fit(X_train,Y_train)"
      ],
      "metadata": {
        "id": "tacCJIhwPpD5"
      },
      "execution_count": null,
      "outputs": []
    },
    {
      "cell_type": "code",
      "source": [
        "prediction = model.predict(x_test)"
      ],
      "metadata": {
        "id": "I2_ziK7ZPqDX"
      },
      "execution_count": null,
      "outputs": []
    },
    {
      "cell_type": "code",
      "source": [
        "model_acc = accuracy_score(y_test, prediction)*100\n",
        "print(model_acc)"
      ],
      "metadata": {
        "id": "ax1xOQUBPsjL"
      },
      "execution_count": null,
      "outputs": []
    },
    {
      "cell_type": "code",
      "source": [
        "model_cl_rep = metrics.classification_report(y_test, prediction)\n",
        "print(model_cl_rep)"
      ],
      "metadata": {
        "id": "zZj-57fAPwOL"
      },
      "execution_count": null,
      "outputs": []
    },
    {
      "cell_type": "code",
      "source": [
        "x = list(zip(height,weight,shoesize,s_encoded,e_encoded))\n",
        "y = g_encoded\n",
        "#and then to segment 35"
      ],
      "metadata": {
        "id": "CltJ3QdLTRBv"
      },
      "execution_count": null,
      "outputs": []
    },
    {
      "cell_type": "code",
      "source": [
        "model_cm = metrics.confusion_matrix(y_test, prediction)\n",
        "print(model_cm)"
      ],
      "metadata": {
        "id": "zBf_Z2z3Z-5U"
      },
      "execution_count": null,
      "outputs": []
    },
    {
      "cell_type": "code",
      "source": [
        "#Question4\n",
        "model = GaussianNB()"
      ],
      "metadata": {
        "id": "HigVeAijW2Ke"
      },
      "execution_count": 9,
      "outputs": []
    },
    {
      "cell_type": "code",
      "source": [
        "model.fit(x, y)"
      ],
      "metadata": {
        "id": "7IzzoCFpXMUt"
      },
      "execution_count": null,
      "outputs": []
    },
    {
      "cell_type": "code",
      "source": [
        "new_input = [(65, 120, 0, 3, 36, 1, 0), (68, 180, 1, 0, 40, 1, 2), (72, 180, 1, 2, 44, 0, 1), (67, 170, 0, 0, 40, 1, 1),(70, 176, 0, 3, 44, 1, 1)]\n",
        "new_output = ['female','male','male','female','female']\n",
        "no_encoded = labels.fit_transform(new_output)"
      ],
      "metadata": {
        "id": "mZXYBI0EXYKD"
      },
      "execution_count": 34,
      "outputs": []
    },
    {
      "cell_type": "code",
      "source": [
        "prediction = model.predict(new_input)"
      ],
      "metadata": {
        "id": "Ux-3Ln1cX5Xj"
      },
      "execution_count": 35,
      "outputs": []
    },
    {
      "cell_type": "code",
      "source": [
        "model_acc = accuracy_score(no_encoded, prediction)*100\n",
        "print(model_acc)\n",
        "model_cl_rep = metrics.classification_report(no_encoded, prediction)\n",
        "print(model_cl_rep)\n",
        "model_cm = metrics.confusion_matrix(no_encoded, prediction)\n",
        "print(model_cm)"
      ],
      "metadata": {
        "id": "wR5d2su-dP1r"
      },
      "execution_count": null,
      "outputs": []
    },
    {
      "cell_type": "code",
      "source": [
        "#Question3\n",
        "from sklearn.tree import DecisionTreeClassifier\n",
        "from sklearn.model_selection import LeavePOut, cross_val_score,ShuffleSplit"
      ],
      "metadata": {
        "id": "EsUsheq8lx0L"
      },
      "execution_count": 46,
      "outputs": []
    },
    {
      "cell_type": "code",
      "source": [
        "model = DecisionTreeClassifier(random_state=42)\n",
        "lpo = LeavePOut(p=2)\n",
        "ss = ShuffleSplit(train_size=0.6, test_size=0.3, n_splits = 5)"
      ],
      "metadata": {
        "id": "vwuy3Z_zrYGk"
      },
      "execution_count": 47,
      "outputs": []
    },
    {
      "cell_type": "code",
      "source": [
        "score_lpo = cross_val_score(model, x, y, cv=lpo)\n",
        "score_ss = cross_val_score(model, x, y, cv=ss)"
      ],
      "metadata": {
        "id": "82Xjydaprwir"
      },
      "execution_count": 56,
      "outputs": []
    },
    {
      "cell_type": "code",
      "source": [
        "avg_lpo_score = score_lpo.mean()\n",
        "avg_ss_score = score_ss.mean()\n",
        "print(avg_lpo_score)\n",
        "print(avg_ss_score)"
      ],
      "metadata": {
        "id": "fAjThIsKulH5"
      },
      "execution_count": null,
      "outputs": []
    }
  ]
}
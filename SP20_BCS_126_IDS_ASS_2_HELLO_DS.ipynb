{
  "nbformat": 4,
  "nbformat_minor": 0,
  "metadata": {
    "colab": {
      "provenance": [],
      "collapsed_sections": [],
      "authorship_tag": "ABX9TyPYn5z2taqCJ8QIYD1nbm6x",
      "include_colab_link": true
    },
    "kernelspec": {
      "name": "python3",
      "display_name": "Python 3"
    },
    "language_info": {
      "name": "python"
    }
  },
  "cells": [
    {
      "cell_type": "markdown",
      "metadata": {
        "id": "view-in-github",
        "colab_type": "text"
      },
      "source": [
        "<a href=\"https://colab.research.google.com/github/SP20-BCS-126/IDS/blob/Assignment-2/SP20_BCS_126_IDS_ASS_2_HELLO_DS.ipynb\" target=\"_parent\"><img src=\"https://colab.research.google.com/assets/colab-badge.svg\" alt=\"Open In Colab\"/></a>"
      ]
    },
    {
      "cell_type": "code",
      "execution_count": null,
      "metadata": {
        "id": "YULxJdDlG7xs"
      },
      "outputs": [],
      "source": [
        "import pandas as pd\n",
        "import csv\n",
        "import re\n",
        "import numpy as np\n",
        "import seaborn as sns\n",
        "import matplotlib.pyplot as plt\n",
        "\n",
        "url=\"https://raw.githubusercontent.com/SP20-BCS-126/IDS/main/the-hello-dataset-fa22.csv\"\n",
        "df=pd.read_csv(url)\n",
        "plt.style.use('seaborn-whitegrid')\n",
        "print(df)\n"
      ]
    },
    {
      "cell_type": "code",
      "source": [
        "names=df['Name']\n",
        "gender=df['Gender']\n",
        "hssc1=df['HSSC-1']\n",
        "hssc2=df['HSSC-2']\n",
        "gpa=df['CGPA']\n",
        "color=df['FavoriteColor']\n",
        "dob=df['BirthMonth']\n",
        "weight=df['Weight']"
      ],
      "metadata": {
        "id": "ZCJC9g41TyP9"
      },
      "execution_count": null,
      "outputs": []
    },
    {
      "cell_type": "code",
      "source": [
        "piegender= df.groupby('Gender')['Gender'].count().plot.pie(autopct='%1.1f%%')\n",
        "plt.show(piegender)"
      ],
      "metadata": {
        "id": "HtlBRhLeXZLG"
      },
      "execution_count": null,
      "outputs": []
    },
    {
      "cell_type": "code",
      "source": [
        "plt.title =\"Male Sudents' CGPA\"\n",
        "MCGPA = df.query('Gender == \"Male\"')\n",
        "MCGPA = df[[\"Gender\",\"CGPA\"]]\n",
        "gpahist=plt.hist(MCGPA,bins=5, range=(2,4))\n",
        "plt.show(gpahist)"
      ],
      "metadata": {
        "id": "qPXiKas0lXpS"
      },
      "execution_count": null,
      "outputs": []
    },
    {
      "cell_type": "code",
      "source": [
        "colorbardata=df.groupby('FavoriteColor')['FavoriteColor'].count()\n",
        "colorbarlabel=df.groupby('FavoriteColor')['FavoriteColor']\n",
        "colorbar=plt.bar(colorbarlabel, colorbardata)\n",
        "plt.show(colorbar)"
      ],
      "metadata": {
        "id": "NonH2AzHo9dJ"
      },
      "execution_count": null,
      "outputs": []
    }
  ]
}
{
  "nbformat": 4,
  "nbformat_minor": 0,
  "metadata": {
    "colab": {
      "provenance": [],
      "authorship_tag": "ABX9TyMnsWNf6/ul1ZJZB5hwK1JE",
      "include_colab_link": true
    },
    "kernelspec": {
      "name": "python3",
      "display_name": "Python 3"
    },
    "language_info": {
      "name": "python"
    }
  },
  "cells": [
    {
      "cell_type": "markdown",
      "metadata": {
        "id": "view-in-github",
        "colab_type": "text"
      },
      "source": [
        "<a href=\"https://colab.research.google.com/github/SP20-BCS-126/IDS/blob/Assignment-5/Assignment_5_SP20_BCS_126.ipynb\" target=\"_parent\"><img src=\"https://colab.research.google.com/assets/colab-badge.svg\" alt=\"Open In Colab\"/></a>"
      ]
    },
    {
      "cell_type": "code",
      "execution_count": 11,
      "metadata": {
        "id": "2zppI3DvRs0i"
      },
      "outputs": [],
      "source": [
        "import pandas as pd\n",
        "import numpy as np\n",
        "from numpy.linalg import norm\n",
        "import collections\n",
        "from sklearn.feature_extraction.text import TfidfVectorizer\n",
        "from sklearn.feature_extraction.text import CountVectorizer"
      ]
    },
    {
      "cell_type": "code",
      "source": [
        "s1 = 'sunshine state enjoy sunshine'\n",
        "s2 = 'brown fox jump high brown fox run'\n",
        "s3 = 'sunshine state fox run fast'"
      ],
      "metadata": {
        "id": "CHWzsHLSlLBH"
      },
      "execution_count": 12,
      "outputs": []
    },
    {
      "cell_type": "code",
      "source": [
        "bowS1 = s1.split(\" \")\n",
        "bowS2 = s2.split(\" \")\n",
        "bowS3 = s3.split(\" \")"
      ],
      "metadata": {
        "id": "aUhWNlynn4CY"
      },
      "execution_count": 13,
      "outputs": []
    },
    {
      "cell_type": "code",
      "source": [
        "unique = set(bowS1).union(set(bowS2)).union(set(bowS3))"
      ],
      "metadata": {
        "id": "Cb4k75DqoQ4H"
      },
      "execution_count": 22,
      "outputs": []
    },
    {
      "cell_type": "code",
      "source": [
        "Wdict1 = dict.fromkeys(unique, 0) \n",
        "Wdict2 = dict.fromkeys(unique, 0) \n",
        "Wdict3 = dict.fromkeys(unique, 0)"
      ],
      "metadata": {
        "id": "cvADcy2joX-i"
      },
      "execution_count": 23,
      "outputs": []
    },
    {
      "cell_type": "code",
      "source": [
        "for unique in bowS1:\n",
        "    Wdict1[unique]+=1\n",
        "\n",
        "for unique in bowS2:\n",
        "    Wdict2[unique]+=1\n",
        "\n",
        "for unique in bowS3:\n",
        "    Wdict3[unique]+=1"
      ],
      "metadata": {
        "id": "zmlw-DWXpiIA"
      },
      "execution_count": 24,
      "outputs": []
    },
    {
      "cell_type": "code",
      "source": [
        "def computeTF(Wdict, bow):\n",
        "    TFdict = {}\n",
        "    bowCount = len(bow)\n",
        "    for unique, count in Wdict.items():\n",
        "        TFdict[unique] = count/float(bowCount)\n",
        "    return TFdict"
      ],
      "metadata": {
        "id": "2s2QEOoIqpkp"
      },
      "execution_count": 39,
      "outputs": []
    },
    {
      "cell_type": "code",
      "source": [
        "def computeIDF(Slist):\n",
        "    import math\n",
        "    IDFdict = {}\n",
        "    N = len(Slist)\n",
        "    \n",
        "    IDFdict = dict.fromkeys(Slist[0].keys(), 0)\n",
        "    for S in Slist:\n",
        "        for unique, val in S.items():\n",
        "            if val > 0:\n",
        "                IDFdict[unique] += 1\n",
        "    \n",
        "    for unique, val in IDFdict.items():\n",
        "        IDFdict[unique] = math.log10(N / float(val))\n",
        "        \n",
        "    return IDFdict"
      ],
      "metadata": {
        "id": "KM2WQf1yscXL"
      },
      "execution_count": 36,
      "outputs": []
    },
    {
      "cell_type": "code",
      "source": [
        "tf_S1 = computeTF(Wdict1, bowS1)\n",
        "tf_S2 = computeTF(Wdict2, bowS2)\n",
        "tf_S3 = computeTF(Wdict3, bowS3)\n",
        "\n",
        "print(tf_S1)\n",
        "print(tf_S2)\n",
        "print(tf_S3)"
      ],
      "metadata": {
        "colab": {
          "base_uri": "https://localhost:8080/"
        },
        "id": "8upql7FWuHrs",
        "outputId": "f235e14f-4e5c-4caa-bab0-043336056fb7"
      },
      "execution_count": 43,
      "outputs": [
        {
          "output_type": "stream",
          "name": "stdout",
          "text": [
            "{'sunshine': 0.5, 'run': 0.0, 'fast': 0.0, 'jump': 0.0, 'enjoy': 0.25, 'fox': 0.0, 'brown': 0.0, 'high': 0.0, 'state': 0.25}\n",
            "{'sunshine': 0.0, 'run': 0.14285714285714285, 'fast': 0.0, 'jump': 0.14285714285714285, 'enjoy': 0.0, 'fox': 0.2857142857142857, 'brown': 0.2857142857142857, 'high': 0.14285714285714285, 'state': 0.0}\n",
            "{'sunshine': 0.2, 'run': 0.2, 'fast': 0.2, 'jump': 0.0, 'enjoy': 0.0, 'fox': 0.2, 'brown': 0.0, 'high': 0.0, 'state': 0.2}\n"
          ]
        }
      ]
    },
    {
      "cell_type": "code",
      "source": [
        "Idf = computeIDF([Wdict1, Wdict2 , Wdict3])\n",
        "print(Idf)"
      ],
      "metadata": {
        "colab": {
          "base_uri": "https://localhost:8080/"
        },
        "id": "rDXMSAmbvR5j",
        "outputId": "7872fb50-9dbb-4970-b48a-ed2933115fa8"
      },
      "execution_count": 44,
      "outputs": [
        {
          "output_type": "stream",
          "name": "stdout",
          "text": [
            "{'sunshine': 0.17609125905568124, 'run': 0.17609125905568124, 'fast': 0.47712125471966244, 'jump': 0.47712125471966244, 'enjoy': 0.47712125471966244, 'fox': 0.17609125905568124, 'brown': 0.47712125471966244, 'high': 0.47712125471966244, 'state': 0.17609125905568124}\n"
          ]
        }
      ]
    }
  ]
}